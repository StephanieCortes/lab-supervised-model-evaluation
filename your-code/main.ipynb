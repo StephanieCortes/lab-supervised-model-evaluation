{
  "nbformat": 4,
  "nbformat_minor": 0,
  "metadata": {
    "kernelspec": {
      "display_name": "Python 3",
      "language": "python",
      "name": "python3"
    },
    "language_info": {
      "codemirror_mode": {
        "name": "ipython",
        "version": 3
      },
      "file_extension": ".py",
      "mimetype": "text/x-python",
      "name": "python",
      "nbconvert_exporter": "python",
      "pygments_lexer": "ipython3",
      "version": "3.7.2"
    },
    "colab": {
      "name": "main.ipynb",
      "provenance": []
    }
  },
  "cells": [
    {
      "cell_type": "markdown",
      "metadata": {
        "id": "hiiijyRD6GGe"
      },
      "source": [
        "# Supervised Learning Model Evaluation Lab\n",
        "\n",
        "Complete the exercises below to solidify your knowledge and understanding of supervised learning model evaluation."
      ]
    },
    {
      "cell_type": "code",
      "metadata": {
        "id": "kXnlFJd86GGn"
      },
      "source": [
        "import pandas as pd"
      ],
      "execution_count": 1,
      "outputs": []
    },
    {
      "cell_type": "markdown",
      "metadata": {
        "id": "DPdwI60A6GGo"
      },
      "source": [
        "## Regression Model Evaluation"
      ]
    },
    {
      "cell_type": "code",
      "metadata": {
        "id": "6LZat2W86GGo"
      },
      "source": [
        "from sklearn.datasets import load_boston\n",
        "\n",
        "data = load_boston()\n",
        "\n",
        "X = pd.DataFrame(data[\"data\"], columns=data[\"feature_names\"])\n",
        "y = pd.DataFrame(data[\"target\"], columns=['MEDV'])\n",
        "\n",
        "data = pd.concat([X, y], axis=1)"
      ],
      "execution_count": 2,
      "outputs": []
    },
    {
      "cell_type": "markdown",
      "metadata": {
        "id": "DYIN5tZB6GGp"
      },
      "source": [
        "## 1. Split this data set into training (80%) and testing (20%) sets.\n",
        "\n",
        "The `MEDV` field represents the median value of owner-occupied homes (in $1000's) and is the target variable that we will want to predict."
      ]
    },
    {
      "cell_type": "code",
      "metadata": {
        "id": "LRKPRP5J6GGp"
      },
      "source": [
        "from sklearn.model_selection import train_test_split\n",
        "\n",
        "X_train, X_test, y_train, y_test = train_test_split(X,y, test_size = 0.2)"
      ],
      "execution_count": 3,
      "outputs": []
    },
    {
      "cell_type": "markdown",
      "metadata": {
        "id": "-AIQftwC6GGp"
      },
      "source": [
        "## 2. Train a `LinearRegression` model on this data set and generate predictions on both the training and the testing set."
      ]
    },
    {
      "cell_type": "code",
      "metadata": {
        "id": "9ngLdfW56GGr"
      },
      "source": [
        "from sklearn.linear_model import LinearRegression\n",
        "\n",
        "linreg = LinearRegression()\n",
        "\n",
        "linreg.fit(X_train, y_train)\n",
        "y_pred = linreg.predict(X_test)"
      ],
      "execution_count": 4,
      "outputs": []
    },
    {
      "cell_type": "code",
      "metadata": {
        "id": "7JkIvN9J6GGq"
      },
      "source": [
        ""
      ],
      "execution_count": 4,
      "outputs": []
    },
    {
      "cell_type": "markdown",
      "metadata": {
        "id": "Zvge9TbH6GGq"
      },
      "source": [
        "## 3. Calculate and print R-squared for both the training and the testing set."
      ]
    },
    {
      "cell_type": "code",
      "metadata": {
        "colab": {
          "base_uri": "https://localhost:8080/"
        },
        "id": "xOcczFnl6GGr",
        "outputId": "e4776594-663f-4acb-8fcb-4eba9a21a554"
      },
      "source": [
        "from sklearn.metrics import accuracy_score\n",
        "\n",
        "print('Train score:', linreg.score(X_train, y_train))\n",
        "print('Test score:', linreg.score(X_test, y_test))"
      ],
      "execution_count": 5,
      "outputs": [
        {
          "output_type": "stream",
          "text": [
            "Train score: 0.7224385528300661\n",
            "Test score: 0.7853386926604231\n"
          ],
          "name": "stdout"
        }
      ]
    },
    {
      "cell_type": "markdown",
      "metadata": {
        "id": "90Djt7HK6GGr"
      },
      "source": [
        "## 4. Calculate and print mean squared error for both the training and the testing set."
      ]
    },
    {
      "cell_type": "code",
      "metadata": {
        "colab": {
          "base_uri": "https://localhost:8080/"
        },
        "id": "pZZx2jN28tqL",
        "outputId": "8064e762-d106-4d2f-d275-d893a0b30d09"
      },
      "source": [
        "from sklearn.metrics import mean_squared_error\n",
        "\n",
        "print('Train MSE:', mean_squared_error(y_train, linreg.predict(X_train)))\n",
        "print('Test MSE:', mean_squared_error(y_test, y_pred))"
      ],
      "execution_count": 6,
      "outputs": [
        {
          "output_type": "stream",
          "text": [
            "Train MSE: 22.448138889038056\n",
            "Test MSE: 20.841347485969152\n"
          ],
          "name": "stdout"
        }
      ]
    },
    {
      "cell_type": "markdown",
      "metadata": {
        "id": "RpRQ0fzd6GGs"
      },
      "source": [
        "## 5. Calculate and print mean absolute error for both the training and the testing set."
      ]
    },
    {
      "cell_type": "code",
      "metadata": {
        "colab": {
          "base_uri": "https://localhost:8080/"
        },
        "id": "P_dbuHKN6GGt",
        "outputId": "b159e03a-9bc1-43a9-c25b-b8667777581c"
      },
      "source": [
        "from sklearn.metrics import mean_absolute_error\n",
        "\n",
        "print('Train MAE:', mean_absolute_error(y_train, linreg.predict(X_train)))\n",
        "print('Test MAE:', mean_absolute_error(y_test, y_pred))"
      ],
      "execution_count": 7,
      "outputs": [
        {
          "output_type": "stream",
          "text": [
            "Train MAE: 3.340701570191873\n",
            "Test MAE: 3.205987629417756\n"
          ],
          "name": "stdout"
        }
      ]
    },
    {
      "cell_type": "markdown",
      "metadata": {
        "id": "fzkGbWwk6GGt"
      },
      "source": [
        "## Classification Model Evaluation"
      ]
    },
    {
      "cell_type": "code",
      "metadata": {
        "id": "8jBBMMyh6GGt"
      },
      "source": [
        "from sklearn.datasets import load_iris\n",
        "\n",
        "data = load_iris()\n",
        "\n",
        "X = pd.DataFrame(data[\"data\"], columns=data[\"feature_names\"])\n",
        "y = pd.DataFrame(data[\"target\"], columns=[\"class\"])\n",
        "\n",
        "data = pd.concat([X, y], axis=1)"
      ],
      "execution_count": 8,
      "outputs": []
    },
    {
      "cell_type": "markdown",
      "metadata": {
        "id": "kQKPQqw06GGu"
      },
      "source": [
        "## 6. Split this data set into training (80%) and testing (20%) sets.\n",
        "\n",
        "The `class` field represents the type of flower and is the target variable that we will want to predict."
      ]
    },
    {
      "cell_type": "code",
      "metadata": {
        "id": "yupau8Uu6GGv"
      },
      "source": [
        "X_train, X_test, y_train, y_test = train_test_split(X,y, test_size = 0.2)"
      ],
      "execution_count": 9,
      "outputs": []
    },
    {
      "cell_type": "markdown",
      "metadata": {
        "id": "iFTSa09n6GGv"
      },
      "source": [
        "## 7. Train a `LogisticRegression` model on this data set and generate predictions on both the training and the testing set."
      ]
    },
    {
      "cell_type": "code",
      "metadata": {
        "colab": {
          "base_uri": "https://localhost:8080/"
        },
        "id": "gWh1ObIG6GGw",
        "outputId": "7e4d01db-8b85-462c-a16d-1ae9b26d49cd"
      },
      "source": [
        "from sklearn.linear_model import LogisticRegression\n",
        "\n",
        "logreg = LogisticRegression()\n",
        "\n",
        "logreg.fit(X_train, y_train)\n",
        "\n",
        "y_pred = logreg.predict(X_test)"
      ],
      "execution_count": 10,
      "outputs": [
        {
          "output_type": "stream",
          "text": [
            "/usr/local/lib/python3.7/dist-packages/sklearn/utils/validation.py:760: DataConversionWarning: A column-vector y was passed when a 1d array was expected. Please change the shape of y to (n_samples, ), for example using ravel().\n",
            "  y = column_or_1d(y, warn=True)\n",
            "/usr/local/lib/python3.7/dist-packages/sklearn/linear_model/_logistic.py:940: ConvergenceWarning: lbfgs failed to converge (status=1):\n",
            "STOP: TOTAL NO. of ITERATIONS REACHED LIMIT.\n",
            "\n",
            "Increase the number of iterations (max_iter) or scale the data as shown in:\n",
            "    https://scikit-learn.org/stable/modules/preprocessing.html\n",
            "Please also refer to the documentation for alternative solver options:\n",
            "    https://scikit-learn.org/stable/modules/linear_model.html#logistic-regression\n",
            "  extra_warning_msg=_LOGISTIC_SOLVER_CONVERGENCE_MSG)\n"
          ],
          "name": "stderr"
        }
      ]
    },
    {
      "cell_type": "markdown",
      "metadata": {
        "id": "gPbDsX-j6GGw"
      },
      "source": [
        "## 8. Calculate and print the accuracy score for both the training and the testing set."
      ]
    },
    {
      "cell_type": "code",
      "metadata": {
        "colab": {
          "base_uri": "https://localhost:8080/"
        },
        "id": "v3hkiauk6GGw",
        "outputId": "e7b0a818-bc65-4c2a-fce5-85041bee32ef"
      },
      "source": [
        "print(accuracy_score(y_train, logreg.predict(X_train)))\n",
        "print(accuracy_score(y_test, y_pred))"
      ],
      "execution_count": 11,
      "outputs": [
        {
          "output_type": "stream",
          "text": [
            "0.9666666666666667\n",
            "1.0\n"
          ],
          "name": "stdout"
        }
      ]
    },
    {
      "cell_type": "markdown",
      "metadata": {
        "id": "DwGuoECK6GGw"
      },
      "source": [
        "## 9. Calculate and print the balanced accuracy score for both the training and the testing set."
      ]
    },
    {
      "cell_type": "code",
      "metadata": {
        "colab": {
          "base_uri": "https://localhost:8080/"
        },
        "id": "PALZzoWd6GGx",
        "outputId": "54578376-f063-4193-dcc7-8946a2832cad"
      },
      "source": [
        "from sklearn.metrics import balanced_accuracy_score\n",
        "\n",
        "print(balanced_accuracy_score(y_train, logreg.predict(X_train)))\n",
        "print(balanced_accuracy_score(y_test, y_pred))"
      ],
      "execution_count": 12,
      "outputs": [
        {
          "output_type": "stream",
          "text": [
            "0.9657477025898079\n",
            "1.0\n"
          ],
          "name": "stdout"
        }
      ]
    },
    {
      "cell_type": "markdown",
      "metadata": {
        "id": "EYsQQdgX6GGx"
      },
      "source": [
        "## 10. Calculate and print the precision score for both the training and the testing set."
      ]
    },
    {
      "cell_type": "code",
      "metadata": {
        "colab": {
          "base_uri": "https://localhost:8080/"
        },
        "id": "qfxD1VC56GGx",
        "outputId": "0b9c556d-65c5-4083-f6ba-682b9aece358"
      },
      "source": [
        "from sklearn.metrics import classification_report\n",
        "\n",
        "print('\\n')\n",
        "print('\\n Classifier performance on Train dataset\\n')\n",
        "print(classification_report(y_train, logreg.predict(X_train)))\n",
        "\n",
        "print('\\n')\n",
        "print('\\n Classifier performance on Test dataset\\n')\n",
        "print(classification_report(y_test, y_pred))"
      ],
      "execution_count": 13,
      "outputs": [
        {
          "output_type": "stream",
          "text": [
            "\n",
            "\n",
            "\n",
            " Classifier performance on Train dataset\n",
            "\n",
            "              precision    recall  f1-score   support\n",
            "\n",
            "           0       1.00      1.00      1.00        40\n",
            "           1       0.97      0.92      0.95        38\n",
            "           2       0.93      0.98      0.95        42\n",
            "\n",
            "    accuracy                           0.97       120\n",
            "   macro avg       0.97      0.97      0.97       120\n",
            "weighted avg       0.97      0.97      0.97       120\n",
            "\n",
            "\n",
            "\n",
            "\n",
            " Classifier performance on Test dataset\n",
            "\n",
            "              precision    recall  f1-score   support\n",
            "\n",
            "           0       1.00      1.00      1.00        10\n",
            "           1       1.00      1.00      1.00        12\n",
            "           2       1.00      1.00      1.00         8\n",
            "\n",
            "    accuracy                           1.00        30\n",
            "   macro avg       1.00      1.00      1.00        30\n",
            "weighted avg       1.00      1.00      1.00        30\n",
            "\n"
          ],
          "name": "stdout"
        }
      ]
    },
    {
      "cell_type": "markdown",
      "metadata": {
        "id": "cg90BchA6GGx"
      },
      "source": [
        "## 11. Calculate and print the recall score for both the training and the testing set."
      ]
    },
    {
      "cell_type": "code",
      "metadata": {
        "colab": {
          "base_uri": "https://localhost:8080/"
        },
        "id": "Kkdp-frI6GGx",
        "outputId": "b5dbb81a-971e-4c2c-f3ac-7175f6a92931"
      },
      "source": [
        "from sklearn.metrics import recall_score\n",
        "\n",
        "print(recall_score(y_train, logreg.predict(X_train), average = 'weighted'))\n",
        "print(recall_score(y_test, y_pred, average = 'weighted'))\n",
        "\n",
        "print('\\n')\n",
        "print('\\n Classifier performance on Train dataset\\n')\n",
        "print(classification_report(y_train, logreg.predict(X_train)))\n",
        "\n",
        "print('\\n')\n",
        "print('\\n Classifier performance on Test dataset\\n')\n",
        "print(classification_report(y_test, y_pred))"
      ],
      "execution_count": 14,
      "outputs": [
        {
          "output_type": "stream",
          "text": [
            "0.9666666666666667\n",
            "1.0\n",
            "\n",
            "\n",
            "\n",
            " Classifier performance on Train dataset\n",
            "\n",
            "              precision    recall  f1-score   support\n",
            "\n",
            "           0       1.00      1.00      1.00        40\n",
            "           1       0.97      0.92      0.95        38\n",
            "           2       0.93      0.98      0.95        42\n",
            "\n",
            "    accuracy                           0.97       120\n",
            "   macro avg       0.97      0.97      0.97       120\n",
            "weighted avg       0.97      0.97      0.97       120\n",
            "\n",
            "\n",
            "\n",
            "\n",
            " Classifier performance on Test dataset\n",
            "\n",
            "              precision    recall  f1-score   support\n",
            "\n",
            "           0       1.00      1.00      1.00        10\n",
            "           1       1.00      1.00      1.00        12\n",
            "           2       1.00      1.00      1.00         8\n",
            "\n",
            "    accuracy                           1.00        30\n",
            "   macro avg       1.00      1.00      1.00        30\n",
            "weighted avg       1.00      1.00      1.00        30\n",
            "\n"
          ],
          "name": "stdout"
        }
      ]
    },
    {
      "cell_type": "markdown",
      "metadata": {
        "id": "RElhZ1Zk6GGy"
      },
      "source": [
        "## 12. Calculate and print the F1 score for both the training and the testing set."
      ]
    },
    {
      "cell_type": "code",
      "metadata": {
        "colab": {
          "base_uri": "https://localhost:8080/"
        },
        "id": "mA_gkajX6GGy",
        "outputId": "1154c431-ba80-4854-e48f-4130c98f0ece"
      },
      "source": [
        "print('\\n')\n",
        "print('\\n Classifier performance on Train dataset\\n')\n",
        "print(classification_report(y_train, logreg.predict(X_train)))\n",
        "\n",
        "print('\\n')\n",
        "print('\\n Classifier performance on Test dataset\\n')\n",
        "print(classification_report(y_test, y_pred))"
      ],
      "execution_count": 15,
      "outputs": [
        {
          "output_type": "stream",
          "text": [
            "\n",
            "\n",
            "\n",
            " Classifier performance on Train dataset\n",
            "\n",
            "              precision    recall  f1-score   support\n",
            "\n",
            "           0       1.00      1.00      1.00        40\n",
            "           1       0.97      0.92      0.95        38\n",
            "           2       0.93      0.98      0.95        42\n",
            "\n",
            "    accuracy                           0.97       120\n",
            "   macro avg       0.97      0.97      0.97       120\n",
            "weighted avg       0.97      0.97      0.97       120\n",
            "\n",
            "\n",
            "\n",
            "\n",
            " Classifier performance on Test dataset\n",
            "\n",
            "              precision    recall  f1-score   support\n",
            "\n",
            "           0       1.00      1.00      1.00        10\n",
            "           1       1.00      1.00      1.00        12\n",
            "           2       1.00      1.00      1.00         8\n",
            "\n",
            "    accuracy                           1.00        30\n",
            "   macro avg       1.00      1.00      1.00        30\n",
            "weighted avg       1.00      1.00      1.00        30\n",
            "\n"
          ],
          "name": "stdout"
        }
      ]
    },
    {
      "cell_type": "markdown",
      "metadata": {
        "id": "I0ZQ3NT66GGy"
      },
      "source": [
        "## 13. Generate confusion matrices for both the training and the testing set."
      ]
    },
    {
      "cell_type": "code",
      "metadata": {
        "colab": {
          "base_uri": "https://localhost:8080/",
          "height": 330
        },
        "id": "zdzKRO8c6GGy",
        "outputId": "721eaaa1-25ae-4734-9be2-a573740c7298"
      },
      "source": [
        "from sklearn.metrics import confusion_matrix\n",
        "from sklearn.metrics import plot_confusion_matrix\n",
        "\n",
        "print(confusion_matrix(y_train, logreg.predict(X_train)))\n",
        "plot_confusion_matrix(logreg, X_train, y_train, values_format= 'd');"
      ],
      "execution_count": 16,
      "outputs": [
        {
          "output_type": "stream",
          "text": [
            "[[40  0  0]\n",
            " [ 0 35  3]\n",
            " [ 0  1 41]]\n"
          ],
          "name": "stdout"
        },
        {
          "output_type": "display_data",
          "data": {
            "image/png": "[encoded data removed]",
            "text/plain": [
              "<Figure size 432x288 with 2 Axes>"
            ]
          },
          "metadata": {
            "tags": [],
            "needs_background": "light"
          }
        }
      ]
    },
    {
      "cell_type": "code",
      "metadata": {
        "colab": {
          "base_uri": "https://localhost:8080/",
          "height": 334
        },
        "id": "OFUjSnID6GGy",
        "outputId": "a674e17a-7e8c-4f1a-a308-8b2752fe171b"
      },
      "source": [
        "print(confusion_matrix(y_test, y_pred))\n",
        "plot_confusion_matrix(logreg, X_test, y_test, values_format= 'd');"
      ],
      "execution_count": 17,
      "outputs": [
        {
          "output_type": "stream",
          "text": [
            "[[10  0  0]\n",
            " [ 0 12  0]\n",
            " [ 0  0  8]]\n"
          ],
          "name": "stdout"
        },
        {
          "output_type": "display_data",
          "data": {
            "image/png": "[encoded data removed]",
            "text/plain": [
              "<Figure size 432x288 with 2 Axes>"
            ]
          },
          "metadata": {
            "tags": [],
            "needs_background": "light"
          }
        }
      ]
    },
    {
      "cell_type": "markdown",
      "metadata": {
        "id": "R4Fl-6eI6GGz"
      },
      "source": [
        "## Bonus: For each of the data sets in this lab, try training with some of the other models you have learned about, recalculate the evaluation metrics, and compare to determine which models perform best on each data set."
      ]
    }
  ]
}
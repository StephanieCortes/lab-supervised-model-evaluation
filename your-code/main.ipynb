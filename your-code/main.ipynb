{
  "nbformat": 4,
  "nbformat_minor": 0,
  "metadata": {
    "kernelspec": {
      "display_name": "Python 3",
      "language": "python",
      "name": "python3"
    },
    "language_info": {
      "codemirror_mode": {
        "name": "ipython",
        "version": 3
      },
      "file_extension": ".py",
      "mimetype": "text/x-python",
      "name": "python",
      "nbconvert_exporter": "python",
      "pygments_lexer": "ipython3",
      "version": "3.7.2"
    },
    "colab": {
      "name": "main.ipynb",
      "provenance": []
    }
  },
  "cells": [
    {
      "cell_type": "markdown",
      "metadata": {
        "id": "hiiijyRD6GGe"
      },
      "source": [
        "# Supervised Learning Model Evaluation Lab\n",
        "\n",
        "Complete the exercises below to solidify your knowledge and understanding of supervised learning model evaluation."
      ]
    },
    {
      "cell_type": "code",
      "metadata": {
        "id": "kXnlFJd86GGn"
      },
      "source": [
        "import pandas as pd"
      ],
      "execution_count": 37,
      "outputs": []
    },
    {
      "cell_type": "markdown",
      "metadata": {
        "id": "DPdwI60A6GGo"
      },
      "source": [
        "## Regression Model Evaluation"
      ]
    },
    {
      "cell_type": "code",
      "metadata": {
        "id": "6LZat2W86GGo"
      },
      "source": [
        "from sklearn.datasets import load_boston\n",
        "\n",
        "data = load_boston()\n",
        "\n",
        "X = pd.DataFrame(data[\"data\"], columns=data[\"feature_names\"])\n",
        "y = pd.DataFrame(data[\"target\"], columns=['MEDV'])\n",
        "\n",
        "data = pd.concat([X, y], axis=1)"
      ],
      "execution_count": 38,
      "outputs": []
    },
    {
      "cell_type": "markdown",
      "metadata": {
        "id": "DYIN5tZB6GGp"
      },
      "source": [
        "## 1. Split this data set into training (80%) and testing (20%) sets.\n",
        "\n",
        "The `MEDV` field represents the median value of owner-occupied homes (in $1000's) and is the target variable that we will want to predict."
      ]
    },
    {
      "cell_type": "code",
      "metadata": {
        "id": "LRKPRP5J6GGp"
      },
      "source": [
        "from sklearn.model_selection import train_test_split\n",
        "\n",
        "X_train, X_test, y_train, y_test = train_test_split(X,y, test_size = 0.2)"
      ],
      "execution_count": 39,
      "outputs": []
    },
    {
      "cell_type": "markdown",
      "metadata": {
        "id": "-AIQftwC6GGp"
      },
      "source": [
        "## 2. Train a `LinearRegression` model on this data set and generate predictions on both the training and the testing set."
      ]
    },
    {
      "cell_type": "code",
      "metadata": {
        "id": "9ngLdfW56GGr"
      },
      "source": [
        "from sklearn.linear_model import LinearRegression\n",
        "\n",
        "linreg = LinearRegression()\n",
        "\n",
        "linreg.fit(X_train, y_train)\n",
        "y_pred = linreg.predict(X_test)"
      ],
      "execution_count": 40,
      "outputs": []
    },
    {
      "cell_type": "code",
      "metadata": {
        "id": "7JkIvN9J6GGq"
      },
      "source": [
        ""
      ],
      "execution_count": 22,
      "outputs": []
    },
    {
      "cell_type": "markdown",
      "metadata": {
        "id": "Zvge9TbH6GGq"
      },
      "source": [
        "## 3. Calculate and print R-squared for both the training and the testing set."
      ]
    },
    {
      "cell_type": "code",
      "metadata": {
        "colab": {
          "base_uri": "https://localhost:8080/"
        },
        "id": "xOcczFnl6GGr",
        "outputId": "aa9ad963-1a06-4448-bf03-9aa73f9cd9a5"
      },
      "source": [
        "from sklearn.metrics import accuracy_score\n",
        "\n",
        "print('Train score:', linreg.score(X_train, y_train))\n",
        "print('Test score:', linreg.score(X_test, y_test))"
      ],
      "execution_count": 23,
      "outputs": [
        {
          "output_type": "stream",
          "text": [
            "Train score: 0.7281525103876629\n",
            "Test score: 0.7768716837201171\n"
          ],
          "name": "stdout"
        }
      ]
    },
    {
      "cell_type": "markdown",
      "metadata": {
        "id": "90Djt7HK6GGr"
      },
      "source": [
        "## 4. Calculate and print mean squared error for both the training and the testing set."
      ]
    },
    {
      "cell_type": "code",
      "metadata": {
        "colab": {
          "base_uri": "https://localhost:8080/"
        },
        "id": "pZZx2jN28tqL",
        "outputId": "66a9a778-686e-41be-c423-44b6f60f6e5d"
      },
      "source": [
        "from sklearn.metrics import mean_squared_error\n",
        "\n",
        "print('Train MSE:', mean_squared_error(y_train, linreg.predict(X_train)))\n",
        "print('Test MSE:', mean_squared_error(y_test, y_pred))"
      ],
      "execution_count": 24,
      "outputs": [
        {
          "output_type": "stream",
          "text": [
            "Train MSE: 22.521122531472315\n",
            "Test MSE: 20.19576768730051\n"
          ],
          "name": "stdout"
        }
      ]
    },
    {
      "cell_type": "markdown",
      "metadata": {
        "id": "RpRQ0fzd6GGs"
      },
      "source": [
        "## 5. Calculate and print mean absolute error for both the training and the testing set."
      ]
    },
    {
      "cell_type": "code",
      "metadata": {
        "colab": {
          "base_uri": "https://localhost:8080/"
        },
        "id": "P_dbuHKN6GGt",
        "outputId": "79aa0c12-7517-4694-8422-6deb4e8023e5"
      },
      "source": [
        "from sklearn.metrics import mean_absolute_error\n",
        "\n",
        "print('Train MAE:', mean_absolute_error(y_train, linreg.predict(X_train)))\n",
        "print('Test MAE:', mean_absolute_error(y_test, y_pred))"
      ],
      "execution_count": 25,
      "outputs": [
        {
          "output_type": "stream",
          "text": [
            "Train MAE: 3.3151143773909406\n",
            "Test MAE: 3.1244072495272235\n"
          ],
          "name": "stdout"
        }
      ]
    },
    {
      "cell_type": "markdown",
      "metadata": {
        "id": "fzkGbWwk6GGt"
      },
      "source": [
        "## Classification Model Evaluation"
      ]
    },
    {
      "cell_type": "code",
      "metadata": {
        "id": "8jBBMMyh6GGt"
      },
      "source": [
        "from sklearn.datasets import load_iris\n",
        "\n",
        "data = load_iris()\n",
        "\n",
        "X = pd.DataFrame(data[\"data\"], columns=data[\"feature_names\"])\n",
        "y = pd.DataFrame(data[\"target\"], columns=[\"class\"])\n",
        "\n",
        "data = pd.concat([X, y], axis=1)"
      ],
      "execution_count": 41,
      "outputs": []
    },
    {
      "cell_type": "markdown",
      "metadata": {
        "id": "kQKPQqw06GGu"
      },
      "source": [
        "## 6. Split this data set into training (80%) and testing (20%) sets.\n",
        "\n",
        "The `class` field represents the type of flower and is the target variable that we will want to predict."
      ]
    },
    {
      "cell_type": "code",
      "metadata": {
        "id": "yupau8Uu6GGv"
      },
      "source": [
        "X_train, X_test, y_train, y_test = train_test_split(X,y, test_size = 0.2)"
      ],
      "execution_count": 42,
      "outputs": []
    },
    {
      "cell_type": "markdown",
      "metadata": {
        "id": "iFTSa09n6GGv"
      },
      "source": [
        "## 7. Train a `LogisticRegression` model on this data set and generate predictions on both the training and the testing set."
      ]
    },
    {
      "cell_type": "code",
      "metadata": {
        "colab": {
          "base_uri": "https://localhost:8080/"
        },
        "id": "gWh1ObIG6GGw",
        "outputId": "d8400b80-eedb-4e56-b1cf-d79661c6cc2b"
      },
      "source": [
        "from sklearn.linear_model import LogisticRegression\n",
        "\n",
        "logreg = LogisticRegression()\n",
        "\n",
        "logreg.fit(X_train, y_train)\n",
        "\n",
        "y_pred = logreg.predict(X_test)"
      ],
      "execution_count": 43,
      "outputs": [
        {
          "output_type": "stream",
          "text": [
            "/usr/local/lib/python3.7/dist-packages/sklearn/utils/validation.py:760: DataConversionWarning: A column-vector y was passed when a 1d array was expected. Please change the shape of y to (n_samples, ), for example using ravel().\n",
            "  y = column_or_1d(y, warn=True)\n",
            "/usr/local/lib/python3.7/dist-packages/sklearn/linear_model/_logistic.py:940: ConvergenceWarning: lbfgs failed to converge (status=1):\n",
            "STOP: TOTAL NO. of ITERATIONS REACHED LIMIT.\n",
            "\n",
            "Increase the number of iterations (max_iter) or scale the data as shown in:\n",
            "    https://scikit-learn.org/stable/modules/preprocessing.html\n",
            "Please also refer to the documentation for alternative solver options:\n",
            "    https://scikit-learn.org/stable/modules/linear_model.html#logistic-regression\n",
            "  extra_warning_msg=_LOGISTIC_SOLVER_CONVERGENCE_MSG)\n"
          ],
          "name": "stderr"
        }
      ]
    },
    {
      "cell_type": "markdown",
      "metadata": {
        "id": "gPbDsX-j6GGw"
      },
      "source": [
        "## 8. Calculate and print the accuracy score for both the training and the testing set."
      ]
    },
    {
      "cell_type": "code",
      "metadata": {
        "colab": {
          "base_uri": "https://localhost:8080/"
        },
        "id": "v3hkiauk6GGw",
        "outputId": "ba47ac8c-dad5-4482-ecee-cf3642339a31"
      },
      "source": [
        "print(accuracy_score(y_train, logreg.predict(X_train)))\n",
        "print(accuracy_score(y_test, y_pred))"
      ],
      "execution_count": 44,
      "outputs": [
        {
          "output_type": "stream",
          "text": [
            "0.975\n",
            "0.9666666666666667\n"
          ],
          "name": "stdout"
        }
      ]
    },
    {
      "cell_type": "markdown",
      "metadata": {
        "id": "DwGuoECK6GGw"
      },
      "source": [
        "## 9. Calculate and print the balanced accuracy score for both the training and the testing set."
      ]
    },
    {
      "cell_type": "code",
      "metadata": {
        "colab": {
          "base_uri": "https://localhost:8080/"
        },
        "id": "PALZzoWd6GGx",
        "outputId": "44ade574-4d22-4805-edf3-196487390f26"
      },
      "source": [
        "from sklearn.metrics import balanced_accuracy_score\n",
        "\n",
        "print(balanced_accuracy_score(y_train, logreg.predict(X_train)))\n",
        "print(balanced_accuracy_score(y_test, y_pred))"
      ],
      "execution_count": 30,
      "outputs": [
        {
          "output_type": "stream",
          "text": [
            "0.982905982905983\n",
            "1.0\n"
          ],
          "name": "stdout"
        }
      ]
    },
    {
      "cell_type": "markdown",
      "metadata": {
        "id": "EYsQQdgX6GGx"
      },
      "source": [
        "## 10. Calculate and print the precision score for both the training and the testing set."
      ]
    },
    {
      "cell_type": "code",
      "metadata": {
        "colab": {
          "base_uri": "https://localhost:8080/"
        },
        "id": "qfxD1VC56GGx",
        "outputId": "4b27586b-0018-446f-c3f5-5a5d4a320498"
      },
      "source": [
        "from sklearn.metrics import classification_report\n",
        "\n",
        "print('\\n'+\"*\"*55)\n",
        "print('\\n Classifier performance on Train dataset\\n')\n",
        "print(classification_report(y_train, logreg.predict(X_train)))\n",
        "\n",
        "print('\\n'+\"*\"*55)\n",
        "print('\\n Classifier performance on Test dataset\\n')\n",
        "print(classification_report(y_test, y_pred))"
      ],
      "execution_count": 45,
      "outputs": [
        {
          "output_type": "stream",
          "text": [
            "\n",
            "*******************************************************\n",
            "\n",
            " Classifier performance on Train dataset\n",
            "\n",
            "              precision    recall  f1-score   support\n",
            "\n",
            "           0       1.00      1.00      1.00        43\n",
            "           1       0.97      0.95      0.96        39\n",
            "           2       0.95      0.97      0.96        38\n",
            "\n",
            "    accuracy                           0.97       120\n",
            "   macro avg       0.97      0.97      0.97       120\n",
            "weighted avg       0.98      0.97      0.98       120\n",
            "\n",
            "\n",
            "*******************************************************\n",
            "\n",
            " Classifier performance on Test dataset\n",
            "\n",
            "              precision    recall  f1-score   support\n",
            "\n",
            "           0       1.00      1.00      1.00         7\n",
            "           1       1.00      0.91      0.95        11\n",
            "           2       0.92      1.00      0.96        12\n",
            "\n",
            "    accuracy                           0.97        30\n",
            "   macro avg       0.97      0.97      0.97        30\n",
            "weighted avg       0.97      0.97      0.97        30\n",
            "\n"
          ],
          "name": "stdout"
        }
      ]
    },
    {
      "cell_type": "markdown",
      "metadata": {
        "id": "cg90BchA6GGx"
      },
      "source": [
        "## 11. Calculate and print the recall score for both the training and the testing set."
      ]
    },
    {
      "cell_type": "code",
      "metadata": {
        "colab": {
          "base_uri": "https://localhost:8080/"
        },
        "id": "Kkdp-frI6GGx",
        "outputId": "71a1cf45-a6d6-4f23-80e1-73505d283d1e"
      },
      "source": [
        "from sklearn.metrics import recall_score\n",
        "\n",
        "print(recall_score(y_train, logreg.predict(X_train), average = 'weighted'))\n",
        "print(recall_score(y_test, y_pred, average = 'weighted'))\n",
        "\n",
        "print('\\n'+\"*\"*55)\n",
        "print('\\n Classifier performance on Train dataset\\n')\n",
        "print(classification_report(y_train, logreg.predict(X_train)))\n",
        "\n",
        "print('\\n'+\"*\"*55)\n",
        "print('\\n Classifier performance on Test dataset\\n')\n",
        "print(classification_report(y_test, y_pred))"
      ],
      "execution_count": 32,
      "outputs": [
        {
          "output_type": "stream",
          "text": [
            "0.9833333333333333\n",
            "1.0\n",
            "\n",
            "*******************************************************\n",
            "\n",
            " Classifier performance on Train dataset\n",
            "\n",
            "              precision    recall  f1-score   support\n",
            "\n",
            "           0       1.00      1.00      1.00        42\n",
            "           1       0.97      0.97      0.97        39\n",
            "           2       0.97      0.97      0.97        39\n",
            "\n",
            "    accuracy                           0.98       120\n",
            "   macro avg       0.98      0.98      0.98       120\n",
            "weighted avg       0.98      0.98      0.98       120\n",
            "\n",
            "\n",
            "*******************************************************\n",
            "\n",
            " Classifier performance on Test dataset\n",
            "\n",
            "              precision    recall  f1-score   support\n",
            "\n",
            "           0       1.00      1.00      1.00         8\n",
            "           1       1.00      1.00      1.00        11\n",
            "           2       1.00      1.00      1.00        11\n",
            "\n",
            "    accuracy                           1.00        30\n",
            "   macro avg       1.00      1.00      1.00        30\n",
            "weighted avg       1.00      1.00      1.00        30\n",
            "\n"
          ],
          "name": "stdout"
        }
      ]
    },
    {
      "cell_type": "markdown",
      "metadata": {
        "id": "RElhZ1Zk6GGy"
      },
      "source": [
        "## 12. Calculate and print the F1 score for both the training and the testing set."
      ]
    },
    {
      "cell_type": "code",
      "metadata": {
        "colab": {
          "base_uri": "https://localhost:8080/"
        },
        "id": "mA_gkajX6GGy",
        "outputId": "804d7ccb-4d0d-478f-f618-2de361ee3528"
      },
      "source": [
        "print('\\n'+\"*\"*55)\n",
        "print('\\n Classifier performance on Train dataset\\n')\n",
        "print(classification_report(y_train, logreg.predict(X_train)))\n",
        "\n",
        "print('\\n'+\"*\"*55)\n",
        "print('\\n Classifier performance on Test dataset\\n')\n",
        "print(classification_report(y_test, y_pred))"
      ],
      "execution_count": 46,
      "outputs": [
        {
          "output_type": "stream",
          "text": [
            "\n",
            "*******************************************************\n",
            "\n",
            " Classifier performance on Train dataset\n",
            "\n",
            "              precision    recall  f1-score   support\n",
            "\n",
            "           0       1.00      1.00      1.00        43\n",
            "           1       0.97      0.95      0.96        39\n",
            "           2       0.95      0.97      0.96        38\n",
            "\n",
            "    accuracy                           0.97       120\n",
            "   macro avg       0.97      0.97      0.97       120\n",
            "weighted avg       0.98      0.97      0.98       120\n",
            "\n",
            "\n",
            "*******************************************************\n",
            "\n",
            " Classifier performance on Test dataset\n",
            "\n",
            "              precision    recall  f1-score   support\n",
            "\n",
            "           0       1.00      1.00      1.00         7\n",
            "           1       1.00      0.91      0.95        11\n",
            "           2       0.92      1.00      0.96        12\n",
            "\n",
            "    accuracy                           0.97        30\n",
            "   macro avg       0.97      0.97      0.97        30\n",
            "weighted avg       0.97      0.97      0.97        30\n",
            "\n"
          ],
          "name": "stdout"
        }
      ]
    },
    {
      "cell_type": "markdown",
      "metadata": {
        "id": "I0ZQ3NT66GGy"
      },
      "source": [
        "## 13. Generate confusion matrices for both the training and the testing set."
      ]
    },
    {
      "cell_type": "code",
      "metadata": {
        "colab": {
          "base_uri": "https://localhost:8080/",
          "height": 326
        },
        "id": "zdzKRO8c6GGy",
        "outputId": "46dc47b7-484c-4358-8c51-d5914d3afaa7"
      },
      "source": [
        "from sklearn.metrics import confusion_matrix\n",
        "from sklearn.metrics import plot_confusion_matrix\n",
        "\n",
        "print(confusion_matrix(y_train, logreg.predict(X_train)))\n",
        "plot_confusion_matrix(logreg, X_train, y_train, values_format= 'd');"
      ],
      "execution_count": 47,
      "outputs": [
        {
          "output_type": "stream",
          "text": [
            "[[43  0  0]\n",
            " [ 0 37  2]\n",
            " [ 0  1 37]]\n"
          ],
          "name": "stdout"
        },
        {
          "output_type": "display_data",
          "data": {
            "image/png": "[encoded data removed]",
            "text/plain": [
              "<Figure size 432x288 with 2 Axes>"
            ]
          },
          "metadata": {
            "tags": [],
            "needs_background": "light"
          }
        }
      ]
    },
    {
      "cell_type": "code",
      "metadata": {
        "colab": {
          "base_uri": "https://localhost:8080/",
          "height": 330
        },
        "id": "OFUjSnID6GGy",
        "outputId": "6dd6c80e-5f47-4a98-e91a-0826730090b5"
      },
      "source": [
        "print(confusion_matrix(y_test, y_pred))\n",
        "plot_confusion_matrix(logreg, X_test, y_test, values_format= 'd');"
      ],
      "execution_count": 48,
      "outputs": [
        {
          "output_type": "stream",
          "text": [
            "[[ 7  0  0]\n",
            " [ 0 10  1]\n",
            " [ 0  0 12]]\n"
          ],
          "name": "stdout"
        },
        {
          "output_type": "display_data",
          "data": {
            "image/png": "[encoded data removed]",
            "text/plain": [
              "<Figure size 432x288 with 2 Axes>"
            ]
          },
          "metadata": {
            "tags": [],
            "needs_background": "light"
          }
        }
      ]
    },
    {
      "cell_type": "markdown",
      "metadata": {
        "id": "R4Fl-6eI6GGz"
      },
      "source": [
        "## Bonus: For each of the data sets in this lab, try training with some of the other models you have learned about, recalculate the evaluation metrics, and compare to determine which models perform best on each data set."
      ]
    }
  ]
}